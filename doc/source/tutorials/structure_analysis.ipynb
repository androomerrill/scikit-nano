{
 "cells": [
  {
   "cell_type": "code",
   "execution_count": 5,
   "metadata": {
    "collapsed": true
   },
   "outputs": [],
   "source": [
    "from matplotlib import pyplot as plt\n",
    "from scipy.cluster.hierarchy import dendrogram, linkage\n",
    "from scipy.spatial.distance import pdist\n",
    "import numpy as np"
   ]
  },
  {
   "cell_type": "code",
   "execution_count": null,
   "metadata": {
    "collapsed": true
   },
   "outputs": [],
   "source": [
    "from sknano.generators import SWNTGenerator, MWNTGenerator, GrapheneGenerator"
   ]
  },
  {
   "cell_type": "code",
   "execution_count": 2,
   "metadata": {
    "collapsed": false
   },
   "outputs": [],
   "source": [
    "swnt_bundle = SWNTGenerator((10,5), nx=4, ny=2, nz=2)\n",
    "mwnt_bundle = MWNTGenerator(Ch_list=[(10, 10), (20, 20), (30, 30)], nx=3, ny=2, nz=5)"
   ]
  },
  {
   "cell_type": "code",
   "execution_count": 3,
   "metadata": {
    "collapsed": false
   },
   "outputs": [
    {
     "data": {
      "text/plain": [
       "2240"
      ]
     },
     "execution_count": 3,
     "metadata": {},
     "output_type": "execute_result"
    }
   ],
   "source": [
    "swnt_bundle.Natoms"
   ]
  },
  {
   "cell_type": "code",
   "execution_count": 4,
   "metadata": {
    "collapsed": false
   },
   "outputs": [
    {
     "data": {
      "text/plain": [
       "7200"
      ]
     },
     "execution_count": 4,
     "metadata": {},
     "output_type": "execute_result"
    }
   ],
   "source": [
    "mwnt_bundle.Natoms"
   ]
  },
  {
   "cell_type": "code",
   "execution_count": 6,
   "metadata": {
    "collapsed": true
   },
   "outputs": [],
   "source": [
    "xy = swnt_bundle.coords.A[:,:2]"
   ]
  },
  {
   "cell_type": "code",
   "execution_count": 7,
   "metadata": {
    "collapsed": false
   },
   "outputs": [
    {
     "data": {
      "text/plain": [
       "<matplotlib.collections.PathCollection at 0x7f40a4216eb8>"
      ]
     },
     "execution_count": 7,
     "metadata": {},
     "output_type": "execute_result"
    }
   ],
   "source": [
    "plt.scatter(xy[:,0], xy[:,1])"
   ]
  },
  {
   "cell_type": "code",
   "execution_count": 8,
   "metadata": {
    "collapsed": true
   },
   "outputs": [],
   "source": [
    "plt.show()"
   ]
  },
  {
   "cell_type": "code",
   "execution_count": 9,
   "metadata": {
    "collapsed": false
   },
   "outputs": [
    {
     "data": {
      "text/plain": [
       "array([ StructureAtom('C', Z=6, mass=12.0107, id=1318, mol=6, type=1, q=0.0, x=16.189618, y=9.257632, z=8.855708, lattice=Crystal3DLattice(a=55.026487799999998, b=27.513243900399999, c=22.541801169799999, alpha=90.0, beta=90.0, gamma=119.99999999960001), xs=0.39134815566319736, ys=0.38853262210535916, zs=0.3928571428654285, ix=0, iy=0, iz=0),\n",
       "       StructureAtom('C', Z=6, mass=12.0107, id=298, mol=2, type=1, q=0.0, x=-3.299774, y=15.656441, z=21.736737, lattice=Crystal3DLattice(a=55.026487799999998, b=27.513243900399999, c=22.541801169799999, alpha=90.0, beta=90.0, gamma=119.99999999960001), xs=0.10430388674275193, ys=0.65708356742876151, zs=0.96428571429550514, ix=0, iy=0, iz=0),\n",
       "       StructureAtom('C', Z=6, mass=12.0107, id=747, mol=3, type=1, q=0.0, x=11.302783, y=4.559998, z=21.736737, lattice=Crystal3DLattice(a=55.026487799999998, b=27.513243900399999, c=22.541801169799999, alpha=90.0, beta=90.0, gamma=119.99999999960001), xs=0.25325073432394191, ys=0.19137807215923608, zs=0.96428571429550514, ix=0, iy=0, iz=0),\n",
       "       StructureAtom('C', Z=6, mass=12.0107, id=137, mol=1, type=1, q=0.0, x=4.848115, y=1.819528, z=20.931673, lattice=Crystal3DLattice(a=55.026487799999998, b=27.513243900399999, c=22.541801169799999, alpha=90.0, beta=90.0, gamma=119.99999999960001), xs=0.10719601749115253, ys=0.076363590326413419, zs=0.92857142858046615, ix=0, iy=0, iz=0),\n",
       "       StructureAtom('C', Z=6, mass=12.0107, id=887, mol=7, type=1, q=0.0, x=36.604369, y=2.246785, z=8.587353, lattice=Crystal3DLattice(a=55.026487799999998, b=27.513243900399999, c=22.541801169799999, alpha=90.0, beta=90.0, gamma=119.99999999960001), xs=0.68878738715820187, ys=0.094295088414175748, zs=0.38095238096041473, ix=0, iy=0, iz=0),\n",
       "       StructureAtom('C', Z=6, mass=12.0107, id=1124, mol=4, type=1, q=0.0, x=1.700000, y=11.913584, z=5.635450, lattice=Crystal3DLattice(a=55.026487799999998, b=27.513243900399999, c=22.541801169799999, alpha=90.0, beta=90.0, gamma=119.99999999960001), xs=0.15589421236858422, ys=0.50000000000000033, zs=0.25000000000527295, ix=0, iy=0, iz=0),\n",
       "       StructureAtom('C', Z=6, mass=12.0107, id=514, mol=2, type=1, q=0.0, x=-6.183209, y=17.045030, z=4.830386, lattice=Crystal3DLattice(a=55.026487799999998, b=27.513243900399999, c=22.541801169799999, alpha=90.0, beta=90.0, gamma=119.99999999960001), xs=0.066472411466332412, ys=0.71536113704089865, zs=0.21428571429023313, ix=0, iy=0, iz=0),\n",
       "       StructureAtom('C', Z=6, mass=12.0107, id=555, mol=3, type=1, q=0.0, x=13.988946, y=5.173097, z=18.516480, lattice=Crystal3DLattice(a=55.026487799999998, b=27.513243900399999, c=22.541801169799999, alpha=90.0, beta=90.0, gamma=119.99999999960001), xs=0.30849933330689833, ys=0.21710917243925298, zs=0.82142857143534986, ix=0, iy=0, iz=0),\n",
       "       StructureAtom('C', Z=6, mass=12.0107, id=1700, mol=4, type=1, q=0.0, x=7.110635, y=6.740487, z=4.025322, lattice=Crystal3DLattice(a=55.026487799999998, b=27.513243900399999, c=22.541801169799999, alpha=90.0, beta=90.0, gamma=119.99999999960001), xs=0.19994474708727183, ys=0.28289082756074729, zs=0.17857142857519584, ix=0, iy=0, iz=0),\n",
       "       StructureAtom('C', Z=6, mass=12.0107, id=777, mol=1, type=1, q=0.0, x=-2.852716, y=4.321680, z=12.881029, lattice=Crystal3DLattice(a=55.026487799999998, b=27.513243900399999, c=22.541801169799999, alpha=90.0, beta=90.0, gamma=119.99999999960001), xs=-0.0064985588029404379, ys=0.18137614216151646, zs=0.57142857143007797, ix=0, iy=0, iz=0)], dtype=object)"
      ]
     },
     "execution_count": 9,
     "metadata": {},
     "output_type": "execute_result"
    }
   ],
   "source": [
    "np.random.choice(swnt_bundle.atoms, size=10, replace=False)"
   ]
  },
  {
   "cell_type": "code",
   "execution_count": null,
   "metadata": {
    "collapsed": true
   },
   "outputs": [],
   "source": []
  }
 ],
 "metadata": {
  "kernelspec": {
   "display_name": "Python 3",
   "language": "python",
   "name": "python3"
  },
  "language_info": {
   "codemirror_mode": {
    "name": "ipython",
    "version": 3
   },
   "file_extension": ".py",
   "mimetype": "text/x-python",
   "name": "python",
   "nbconvert_exporter": "python",
   "pygments_lexer": "ipython3",
   "version": "3.5.1"
  }
 },
 "nbformat": 4,
 "nbformat_minor": 0
}
